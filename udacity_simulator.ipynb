{
 "cells": [
  {
   "cell_type": "code",
   "execution_count": null,
   "id": "8c394d09",
   "metadata": {},
   "outputs": [],
   "source": [
    "import re\n",
    "import json\n",
    "\n",
    "from simple_websocket_server import WebSocketServer, WebSocket\n",
    "\n",
    "class Controller: \n",
    "    def process(self, telemetry):\n",
    "        return {\n",
    "            'throttle': 0.05, \n",
    "            'steering_angle': -0.05, \n",
    "            'mpc_x': [],\n",
    "            'mpc_y': []\n",
    "        }\n",
    "    \n",
    "def visualize_trajectory():\n",
    "    return {\n",
    "        'next_x': [0.0, 10.0, 20.0, 30.0, 40.0],\n",
    "        'next_y': [0.0, 0.0, 0.0, 0.0, 0.0],\n",
    "    }\n",
    "    \n",
    "\n",
    "class SimulatorClient(WebSocket):\n",
    "    incoming_pattern = re.compile('42\\[\"telemetry\",\\s*(.*)\\s*\\]')\n",
    "    manual_command = '42[\"manual\",{}]'\n",
    "    steer_template = '42[\"steer\",%s]'\n",
    "    \n",
    "    def connected(self):\n",
    "        self.controller = Controller()\n",
    "        \n",
    "    def handle(self):\n",
    "        steer_command = self._receive_telemetry(self.data)\n",
    "        steer_command.update(visualize_trajectory())\n",
    "        self._send_command(steer_command)\n",
    "    \n",
    "    def handle_close(self):\n",
    "        print(\"*** Connection closed\")\n",
    "        \n",
    "    def _receive_telemetry(self, package):\n",
    "        match_data = self.incoming_pattern.match(package)\n",
    "        if not match_data: return None\n",
    "        \n",
    "        telemetry = json.loads(match_data.group(1))\n",
    "        return self.controller.process(telemetry)\n",
    "            \n",
    "    def _send_command(self, command):\n",
    "        if not command: \n",
    "            response = self.manual_command\n",
    "        else: \n",
    "            response = self.steer_template % json.dumps(command)\n",
    "        self.send_message(response)\n",
    "        \n",
    "\n",
    "class UdacitySimulator: \n",
    "    def run(self):\n",
    "        server = WebSocketServer('', 4567, SimulatorClient)\n",
    "        try:\n",
    "            server.serve_forever()\n",
    "        except KeyboardInterrupt: \n",
    "            server.close()\n"
   ]
  },
  {
   "cell_type": "markdown",
   "id": "59060908",
   "metadata": {},
   "source": [
    "## Simulator runner"
   ]
  },
  {
   "cell_type": "code",
   "execution_count": null,
   "id": "13e14d94",
   "metadata": {},
   "outputs": [],
   "source": [
    "sim = UdacitySimulator()\n",
    "sim.run()"
   ]
  },
  {
   "cell_type": "markdown",
   "id": "f3993d30",
   "metadata": {},
   "source": [
    "## Unit tests"
   ]
  },
  {
   "cell_type": "code",
   "execution_count": 110,
   "id": "f8ba85c5",
   "metadata": {},
   "outputs": [
    {
     "name": "stderr",
     "output_type": "stream",
     "text": [
      "test_rotation_and_translation (__main__.CoordinateSystemTest) ... ok\n",
      "test_rotation_only (__main__.CoordinateSystemTest) ... ok\n",
      "test_translation_only (__main__.CoordinateSystemTest) ... ok\n",
      "\n",
      "----------------------------------------------------------------------\n",
      "Ran 3 tests in 0.005s\n",
      "\n",
      "OK\n"
     ]
    },
    {
     "data": {
      "text/plain": [
       "<unittest.main.TestProgram at 0x7fa967f505b0>"
      ]
     },
     "execution_count": 110,
     "metadata": {},
     "output_type": "execute_result"
    }
   ],
   "source": [
    "import math\n",
    "import numpy as np\n",
    "\n",
    "import unittest\n",
    "\n",
    "def translate(new_center):\n",
    "    return np.array([\n",
    "            [1, 0, -new_center[0]],\n",
    "            [0, 1, -new_center[1]],\n",
    "            [0, 0, 1]])\n",
    "\n",
    "def rotate(alpha):\n",
    "    return np.array([\n",
    "            [ np.cos(alpha), np.sin(alpha), 0],\n",
    "            [-np.sin(alpha), np.cos(alpha), 0],\n",
    "            [ 0,             0,             1]])\n",
    "\n",
    "\n",
    "class CoordinateSystem:\n",
    "    def __init__(self, center, alpha):\n",
    "        self.center = center\n",
    "        self.alpha = alpha\n",
    "        self.transform = rotate(alpha) @ translate(center)\n",
    "    \n",
    "    def global_to_local(self, pt):\n",
    "        pt_g = np.array([pt[0], pt[1], 1])\n",
    "        pt_l = self.transform @ pt_g\n",
    "        return tuple(pt_l[:-1])\n",
    "    \n",
    "\n",
    "    \n",
    "\n",
    "class CoordinateSystemTest(unittest.TestCase):\n",
    "    \n",
    "    def test_translation_only(self):\n",
    "        local_system = CoordinateSystem((1, 1), 0)\n",
    "        global_point = (3, 2)\n",
    "        local_point = local_system.global_to_local(global_point)\n",
    "        self.assertEqual((2, 1), local_point)\n",
    "        \n",
    "    def test_rotation_only(self):\n",
    "        local_system = CoordinateSystem((0, 0), math.pi / 4)\n",
    "        global_point = (1, 1)\n",
    "        local_x, local_y = local_system.global_to_local(global_point)\n",
    "        self.assertAlmostEqual(np.sqrt(2), local_x)\n",
    "        self.assertAlmostEqual(0, local_y)\n",
    "        \n",
    "    def test_rotation_and_translation(self):\n",
    "        local_system = CoordinateSystem((1, 1), math.pi / 4)\n",
    "        global_point = (2, 2)\n",
    "        local_x, local_y = local_system.global_to_local(global_point)\n",
    "        self.assertAlmostEqual(np.sqrt(2), local_x)\n",
    "        self.assertAlmostEqual(0, local_y)\n",
    "        \n",
    "        \n",
    "unittest.main(argv=[''], verbosity=2, exit=False)"
   ]
  },
  {
   "cell_type": "code",
   "execution_count": null,
   "id": "a4ad6821",
   "metadata": {},
   "outputs": [],
   "source": [
    "sample_telemetry = {'ptsx': [-32.16173, -43.49173, -61.09, -78.29172, -93.05002, -107.7717], 'ptsy': [113.361, 105.941, 92.88499, 78.73102, 65.34102, 50.57938], 'psi_unity': 4.120315, 'psi': 3.733667, 'x': -40.62008, 'y': 108.7301, 'steering_angle': 0, 'throttle': 0, 'speed': 3.102509e-06}"
   ]
  },
  {
   "cell_type": "code",
   "execution_count": 27,
   "id": "cd1fb6e1",
   "metadata": {},
   "outputs": [
    {
     "data": {
      "text/plain": [
       "matrix([[1],\n",
       "        [0],\n",
       "        [0]])"
      ]
     },
     "execution_count": 27,
     "metadata": {},
     "output_type": "execute_result"
    }
   ],
   "source": [
    "a1 * x.transpose()"
   ]
  },
  {
   "cell_type": "code",
   "execution_count": 72,
   "id": "666e0403",
   "metadata": {},
   "outputs": [],
   "source": [
    "import math"
   ]
  },
  {
   "cell_type": "code",
   "execution_count": 73,
   "id": "6212cff7",
   "metadata": {},
   "outputs": [
    {
     "data": {
      "text/plain": [
       "3.141592653589793"
      ]
     },
     "execution_count": 73,
     "metadata": {},
     "output_type": "execute_result"
    }
   ],
   "source": [
    "math.pi"
   ]
  },
  {
   "cell_type": "code",
   "execution_count": null,
   "id": "d8ea157f",
   "metadata": {},
   "outputs": [],
   "source": []
  }
 ],
 "metadata": {
  "kernelspec": {
   "display_name": "Python 3",
   "language": "python",
   "name": "python3"
  },
  "language_info": {
   "codemirror_mode": {
    "name": "ipython",
    "version": 3
   },
   "file_extension": ".py",
   "mimetype": "text/x-python",
   "name": "python",
   "nbconvert_exporter": "python",
   "pygments_lexer": "ipython3",
   "version": "3.9.4"
  }
 },
 "nbformat": 4,
 "nbformat_minor": 5
}
