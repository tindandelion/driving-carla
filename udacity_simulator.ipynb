{
 "cells": [
  {
   "cell_type": "code",
   "execution_count": null,
   "id": "8c394d09",
   "metadata": {},
   "outputs": [],
   "source": [
    "import re\n",
    "import json\n",
    "\n",
    "from simple_websocket_server import WebSocketServer, WebSocket\n",
    "\n",
    "class Controller: \n",
    "    def process(self, telemetry):\n",
    "        return {\n",
    "            'throttle': 0.05, \n",
    "            'steering_angle': -0.05, \n",
    "            'next_x': [],\n",
    "            'next_y': [],\n",
    "            'mpc_x': [],\n",
    "            'mpc_y': []\n",
    "        }\n",
    "    \n",
    "\n",
    "class SimulatorClient(WebSocket):\n",
    "    incoming_pattern = re.compile('42\\[\"telemetry\",\\s*(.*)\\s*\\]')\n",
    "    manual_command = '42[\"manual\",{}]'\n",
    "    steer_template = '42[\"steer\",%s]'\n",
    "    \n",
    "    def connected(self):\n",
    "        self.controller = Controller()\n",
    "        \n",
    "    def handle(self):\n",
    "        command = self._receive_telemetry(self.data)\n",
    "        self._send_command(command)\n",
    "    \n",
    "    def handle_close(self):\n",
    "        print(\"*** Connection closed\")\n",
    "        \n",
    "    def _receive_telemetry(self, package):\n",
    "        match_data = self.incoming_pattern.match(package)\n",
    "        if not match_data: return None\n",
    "        \n",
    "        telemetry = json.loads(match_data.group(1))\n",
    "        return self.controller.process(telemetry)\n",
    "            \n",
    "    def _send_command(self, command):\n",
    "        if not command: \n",
    "            response = self.manual_command\n",
    "        else: \n",
    "            response = self.steer_template % json.dumps(command)\n",
    "        self.send_message(response)\n",
    "        \n",
    "\n",
    "class UdacitySimulator: \n",
    "    def run(self):\n",
    "        server = WebSocketServer('', 4567, SimulatorClient)\n",
    "        try:\n",
    "            server.serve_forever()\n",
    "        except KeyboardInterrupt: \n",
    "            server.close()\n"
   ]
  },
  {
   "cell_type": "code",
   "execution_count": null,
   "id": "13e14d94",
   "metadata": {},
   "outputs": [],
   "source": [
    "sim = UdacitySimulator()\n",
    "sim.run()"
   ]
  }
 ],
 "metadata": {
  "kernelspec": {
   "display_name": "Python 3",
   "language": "python",
   "name": "python3"
  },
  "language_info": {
   "codemirror_mode": {
    "name": "ipython",
    "version": 3
   },
   "file_extension": ".py",
   "mimetype": "text/x-python",
   "name": "python",
   "nbconvert_exporter": "python",
   "pygments_lexer": "ipython3",
   "version": "3.9.4"
  }
 },
 "nbformat": 4,
 "nbformat_minor": 5
}
